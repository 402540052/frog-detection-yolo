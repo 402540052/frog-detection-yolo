{
 "cells": [
  {
   "cell_type": "markdown",
   "metadata": {},
   "source": [
    "### Require\n",
    "* test.txt\n",
    "\n",
    " 'D:\\\\ShaofengZou\\\\GrandProject\\\\1005_YOLOv1_Android_Darknet_Frog\\\\Project\\\\Python\\\\darkflow-master/VOCdevkit/VOC2007/JPEGImages/1033.jpg 11,11,224,217,8\\n'\n",
    " \n",
    " \n",
    "* input/images-optional/out/*.json\n",
    "\n",
    "  [{\"label\": \"blue mountains tree frog\", \"confidence\": 0.78, \"topleft\": {\"x\": 50, \"y\": 24}, \"bottomright\": {\"x\": 163, \"y\": 162}}]\n",
    "  \n",
    " \n",
    "* give class_name:\n",
    "  \n",
    "  ['girl','boy']"
   ]
  },
  {
   "cell_type": "code",
   "execution_count": 47,
   "metadata": {},
   "outputs": [],
   "source": [
    "import numpy as np\n",
    "import cv2\n",
    "import os\n",
    "image_folder = 'input/images-optional'\n",
    "label_folder = 'input/ground-truth'\n",
    "predict_folder = 'input/detection-results'\n",
    "os.makedirs(image_folder, exist_ok = True)\n",
    "os.makedirs(label_folder, exist_ok = True)\n",
    "os.makedirs(predict_folder, exist_ok = True)"
   ]
  },
  {
   "cell_type": "markdown",
   "metadata": {},
   "source": [
    "### Get test image and label"
   ]
  },
  {
   "cell_type": "code",
   "execution_count": 48,
   "metadata": {},
   "outputs": [
    {
     "data": {
      "text/plain": [
       "['D:\\\\ShaofengZou\\\\GrandProject\\\\1005_YOLOv1_Android_Darknet_Frog\\\\Project\\\\Python\\\\darkflow-master/VOCdevkit/VOC2007/JPEGImages/1033.jpg 11,11,224,217,8\\n',\n",
       " 'D:\\\\ShaofengZou\\\\GrandProject\\\\1005_YOLOv1_Android_Darknet_Frog\\\\Project\\\\Python\\\\darkflow-master/VOCdevkit/VOC2007/JPEGImages/1098.jpg 121,68,218,165,8 75,3,213,157,8\\n',\n",
       " 'D:\\\\ShaofengZou\\\\GrandProject\\\\1005_YOLOv1_Android_Darknet_Frog\\\\Project\\\\Python\\\\darkflow-master/VOCdevkit/VOC2007/JPEGImages/11.jpg 46,63,164,189,8\\n']"
      ]
     },
     "execution_count": 48,
     "metadata": {},
     "output_type": "execute_result"
    }
   ],
   "source": [
    "with open('test.txt') as f:\n",
    "    infos = f.readlines()\n",
    "infos[:3]"
   ]
  },
  {
   "cell_type": "code",
   "execution_count": 70,
   "metadata": {},
   "outputs": [],
   "source": [
    "classes = ['BluePoisonDartFrog',\n",
    "            'CaneToad',\n",
    "            'GoldenPoisonDartFrog',\n",
    "            'GreatBarred',\n",
    "            'GreenAndGoldenBellFrog',\n",
    "            'RedCrownedToadlet',\n",
    "            'RedEyed',\n",
    "            'VietnameseMossy',\n",
    "            'bluemountainstreefrog',\n",
    "            'corroboreefrogdd',\n",
    "            'greentreefrog']"
   ]
  },
  {
   "cell_type": "code",
   "execution_count": 74,
   "metadata": {},
   "outputs": [],
   "source": [
    "for info in infos:\n",
    "    line = info.split()\n",
    "    file_path = line[0]\n",
    "    box = np.array([np.array(list(map(int,box.split(',')))) for box in line[1:]])\n",
    "    \n",
    "    # save image\n",
    "    file_path = file_path.replace('VOCdevkit', 'Dataset')\n",
    "    img = cv2.imread(file_path)\n",
    "    save_file = os.path.join(image_folder, file_path.split('/')[-1])\n",
    "    cv2.imwrite(save_file, img)\n",
    "    \n",
    "    \n",
    "    #save label\n",
    "    save_file = os.path.join(label_folder, file_path.split('/')[-1].split('.')[0] + '.txt')\n",
    "    list_file = open(save_file, 'w')\n",
    "    for bbox in box:\n",
    "        x_start, y_start, x_end, y_end, label = bbox\n",
    "        class_label = classes[label] #label is number       \n",
    "\n",
    "        list_file.write('%s %d %d %d %d\\n'%(class_label, x_start, y_start, x_end, y_end))\n",
    "    list_file.close()"
   ]
  },
  {
   "cell_type": "markdown",
   "metadata": {},
   "source": [
    "##### JSON content\n",
    "{'label': 'blue mountains tree frog',\n",
    "\n",
    " 'confidence': 0.78,\n",
    " \n",
    " 'topleft': {'x': 50, 'y': 24},\n",
    " \n",
    " 'bottomright': {'x': 163, 'y': 162}}\n",
    " "
   ]
  },
  {
   "cell_type": "code",
   "execution_count": 75,
   "metadata": {},
   "outputs": [],
   "source": [
    "import json\n",
    "for file in os.listdir(os.path.join(image_folder, 'out')):\n",
    "    if file.split('.')[-1] == 'json':\n",
    "        #nt(file)\n",
    "        with open(os.path.join(image_folder, 'out', file)) as json_file:\n",
    "            data = json.load(json_file)\n",
    "            save_file = os.path.join(predict_folder, file.split('.')[0] + '.txt')\n",
    "            list_file = open(save_file, 'w')\n",
    "            for item in data:\n",
    "                # get info\n",
    "                label = ''.join(item['label'].split(' '))\n",
    "                #print(label)\n",
    "                confidence = item['confidence']\n",
    "                x_start = item['topleft']['x']\n",
    "                y_start = item['topleft']['y']      \n",
    "                x_end = item['bottomright']['x']\n",
    "                y_end = item['bottomright']['y']  \n",
    "                # save info\n",
    "\n",
    "                list_file.write('%s %f %d %d %d %d\\n'%(label, confidence, x_start, y_start, x_end, y_end))\n",
    "            list_file.close()         "
   ]
  },
  {
   "cell_type": "code",
   "execution_count": 61,
   "metadata": {},
   "outputs": [
    {
     "data": {
      "text/plain": [
       "{'label': 'blue mountains tree frog',\n",
       " 'confidence': 0.78,\n",
       " 'topleft': {'x': 50, 'y': 24},\n",
       " 'bottomright': {'x': 163, 'y': 162}}"
      ]
     },
     "execution_count": 61,
     "metadata": {},
     "output_type": "execute_result"
    }
   ],
   "source": [
    "data[0]"
   ]
  },
  {
   "cell_type": "code",
   "execution_count": 62,
   "metadata": {},
   "outputs": [
    {
     "data": {
      "text/plain": [
       "'blue mountains tree frog'"
      ]
     },
     "execution_count": 62,
     "metadata": {},
     "output_type": "execute_result"
    }
   ],
   "source": [
    "data[0]['label']"
   ]
  },
  {
   "cell_type": "code",
   "execution_count": null,
   "metadata": {},
   "outputs": [],
   "source": []
  }
 ],
 "metadata": {
  "kernelspec": {
   "display_name": "Python 3",
   "language": "python",
   "name": "python3"
  },
  "language_info": {
   "codemirror_mode": {
    "name": "ipython",
    "version": 3
   },
   "file_extension": ".py",
   "mimetype": "text/x-python",
   "name": "python",
   "nbconvert_exporter": "python",
   "pygments_lexer": "ipython3",
   "version": "3.6.9"
  }
 },
 "nbformat": 4,
 "nbformat_minor": 2
}
